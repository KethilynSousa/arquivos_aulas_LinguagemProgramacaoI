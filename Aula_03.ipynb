{
  "cells": [
    {
      "cell_type": "markdown",
      "metadata": {
        "id": "view-in-github",
        "colab_type": "text"
      },
      "source": [
        "<a href=\"https://colab.research.google.com/github/KethilynSousa/arquivos_aulas_LinguagemProgramacaoI/blob/main/Aula_03.ipynb\" target=\"_parent\"><img src=\"https://colab.research.google.com/assets/colab-badge.svg\" alt=\"Open In Colab\"/></a>"
      ]
    },
    {
      "cell_type": "markdown",
      "source": [
        "Exercicio 9 - Imprimindo, Imprimindo, Imprimindo"
      ],
      "metadata": {
        "id": "K90ekepT9fmk"
      }
    },
    {
      "cell_type": "code",
      "source": [
        "# n\\ serve para pular linha dentro da variável\n",
        "# \"\"\" serve para impressão de varias linhas\n",
        "\n",
        "days = \"Mon Tue Wed Thu Fri Sat Sun\"\n",
        "months = \"Jan\\nFeb\\nMar\\nApr\\nMay\\nJun\\nJul\\nAgo\\nSet\\nOut\\nNov\\nDez\"\n",
        "\n",
        "print(\"Here are the day: \", days)\n",
        "print(\"Here are the months: \", months)\n",
        "\n",
        "print(\"\"\"\n",
        "There's somenthing going on here.\n",
        "With the three double-quotes.\n",
        "We'll be able to type as much as we like.\n",
        "Even 4 line if we want, or 5, or 6.\n",
        "\"\"\")"
      ],
      "metadata": {
        "id": "YV0zb9P3_whP"
      },
      "execution_count": null,
      "outputs": []
    },
    {
      "cell_type": "markdown",
      "source": [
        "Exercicio 10 - O que foi isso ?"
      ],
      "metadata": {
        "id": "shGxruOqDG2q"
      }
    },
    {
      "cell_type": "code",
      "source": [
        "# \\t Recua a linha\n",
        "# \\n Quebra a linha\n",
        "# \\t* Recua a linha e add o *\n",
        "# \\n\\t* Quebra e Recua a linha e add o *\n",
        "\n",
        "tabby_cat = \"\\tI'm tabbet in.\"\n",
        "persian_cat = \"I'm split\\non a line.\"\n",
        "backslash_cat = \"I'm \\\\ a \\\\ cat.\"\n",
        "\n",
        "fat_cat = \"\"\"\n",
        "I'll do a list:\n",
        "\\t* Cat food /t* Fishies\n",
        "\\t* Catnip\\n\\t* Grass\n",
        "\"\"\"\n",
        "\n",
        "print(tabby_cat)\n",
        "print(persian_cat)\n",
        "print(backslash_cat)\n",
        "print(fat_cat)"
      ],
      "metadata": {
        "collapsed": true,
        "id": "zZyiZkLmAUQr",
        "outputId": "ef2472b9-d02f-49c9-c72c-692fdd9b3a82",
        "colab": {
          "base_uri": "https://localhost:8080/"
        }
      },
      "execution_count": null,
      "outputs": [
        {
          "output_type": "stream",
          "name": "stdout",
          "text": [
            "\tI'm tabbet in.\n",
            "I'm split\n",
            "on a line.\n",
            "I'm \\ a \\ cat.\n",
            "\n",
            "I'll do a list:\n",
            "\t* Cat food /t* Fishies\n",
            "\t* Catnip\n",
            "\t* Grass\n",
            "\n"
          ]
        }
      ]
    },
    {
      "cell_type": "markdown",
      "source": [
        "Exercicio 11 - Fazendo perguntas"
      ],
      "metadata": {
        "id": "vPgEbKsnDRVo"
      }
    },
    {
      "cell_type": "code",
      "source": [
        "#input é valor/conteudo da variavel\n",
        "#f organiza as variaveis nos locais indicados no texto\n",
        "\n",
        "print(\"How old are you?\", end= ' ')\n",
        "age = input()\n",
        "print(\"How tall are you?\", end= ' ')\n",
        "height = input()\n",
        "print(\"How much do you weigh?\", end= ' ')\n",
        "weight = input()\n",
        "\n",
        "print(f\"So, you're {age} old, {height} tall and {weight} heavy.\")"
      ],
      "metadata": {
        "collapsed": true,
        "id": "9fo1Vac-DZNE",
        "outputId": "186b2895-f823-41d6-fc46-b50ec808fdb3",
        "colab": {
          "base_uri": "https://localhost:8080/"
        }
      },
      "execution_count": null,
      "outputs": [
        {
          "output_type": "stream",
          "name": "stdout",
          "text": [
            "How old are you? 26\n",
            "How tall are you? 1.62\n",
            "How much do you weigh? 60\n",
            "So, you're 26 old, 1.62 tall and 60 heavy.\n"
          ]
        }
      ]
    },
    {
      "cell_type": "markdown",
      "source": [
        "Exercicio 12 - Perguntando as pessoas"
      ],
      "metadata": {
        "id": "rKz6jXkGFk4F"
      }
    },
    {
      "cell_type": "code",
      "source": [
        "#Não há necessidade de repetir os prints pois com o f + {} já add as variaveis na frase\n",
        "age = input(\"How old are you? \")\n",
        "height = input(\"How tall are you? \")\n",
        "weight = input(\"How much do you weigh? \")\n",
        "\n",
        "print(f\"So, you're {age} old, {height} tall and {weight} heavy.\")"
      ],
      "metadata": {
        "collapsed": true,
        "id": "fDrZrw-ZFsVx",
        "outputId": "5f8e790e-6722-41d1-c271-0c35b3f91285",
        "colab": {
          "base_uri": "https://localhost:8080/"
        }
      },
      "execution_count": null,
      "outputs": [
        {
          "output_type": "stream",
          "name": "stdout",
          "text": [
            "How old are you? 26\n",
            "How tall are you? 1.62\n",
            "How much do you weigh? 60\n",
            "So, you're 26 old, 1.62 tall and 60 heavy.\n"
          ]
        }
      ]
    },
    {
      "cell_type": "markdown",
      "source": [
        "Exercicio 13 - Instrução IF"
      ],
      "metadata": {
        "id": "tlBcs1XfG_f6"
      }
    },
    {
      "cell_type": "code",
      "source": [
        "people = 20\n",
        "cats = 30\n",
        "dogs = 15\n",
        "\n",
        "if people < cats:\n",
        "  print(\"Too many cats! The worls is doomed!\")\n",
        "\n",
        "if people > cats:\n",
        "  print(\"Not many cats! The worls is salved!\")\n",
        "\n",
        "if people < dogs:\n",
        "  print(\"The world is drooled on!\")\n",
        "\n",
        "if people > dogs:\n",
        "  print(\"The world is dry!\")\n",
        "\n",
        "dogs += 5\n",
        "\n",
        "if people >= dogs:\n",
        "  print(\"People are greater than or equal to dogs.\")\n",
        "\n",
        "if people <= dogs:\n",
        "  print(\"People are less than or equal to dogs.\")\n",
        "\n",
        "if people == dogs:\n",
        "  print(\"People are dogs.\")"
      ],
      "metadata": {
        "id": "z_L0tRozHG2O",
        "outputId": "4897cec7-5fcd-4c09-a944-68649cd94d4f",
        "colab": {
          "base_uri": "https://localhost:8080/"
        }
      },
      "execution_count": null,
      "outputs": [
        {
          "output_type": "stream",
          "name": "stdout",
          "text": [
            "Too many cats! The worls is doomed!\n",
            "The world is dry!\n",
            "People are greater than or equal to dogs.\n",
            "People are less than or equal to dogs.\n",
            "People are dogs.\n"
          ]
        }
      ]
    }
  ],
  "metadata": {
    "colab": {
      "toc_visible": true,
      "provenance": [],
      "include_colab_link": true
    },
    "kernelspec": {
      "display_name": "Python 3",
      "name": "python3"
    }
  },
  "nbformat": 4,
  "nbformat_minor": 0
}