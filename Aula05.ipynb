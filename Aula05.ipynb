{
  "nbformat": 4,
  "nbformat_minor": 0,
  "metadata": {
    "colab": {
      "provenance": [],
      "include_colab_link": true
    },
    "kernelspec": {
      "name": "python3",
      "display_name": "Python 3"
    },
    "language_info": {
      "name": "python"
    }
  },
  "cells": [
    {
      "cell_type": "markdown",
      "metadata": {
        "id": "view-in-github",
        "colab_type": "text"
      },
      "source": [
        "<a href=\"https://colab.research.google.com/github/KethilynSousa/arquivos_aulas_LinguagemProgramacaoI/blob/main/Aula05.ipynb\" target=\"_parent\"><img src=\"https://colab.research.google.com/assets/colab-badge.svg\" alt=\"Open In Colab\"/></a>"
      ]
    },
    {
      "cell_type": "markdown",
      "source": [
        "# EXERCÍCIO 23 - LENDO ARQUIVOS"
      ],
      "metadata": {
        "id": "SLSR84EcCx2M"
      }
    },
    {
      "cell_type": "code",
      "execution_count": null,
      "metadata": {
        "colab": {
          "base_uri": "https://localhost:8080/",
          "height": 211
        },
        "id": "CdKZBYJSBPj0",
        "outputId": "2d3d8e54-08d0-41d2-99d5-bf9c126edd41"
      },
      "outputs": [
        {
          "output_type": "error",
          "ename": "ValueError",
          "evalue": "too many values to unpack (expected 2)",
          "traceback": [
            "\u001b[0;31m---------------------------------------------------------------------------\u001b[0m",
            "\u001b[0;31mValueError\u001b[0m                                Traceback (most recent call last)",
            "\u001b[0;32m<ipython-input-9-03c0d99ccc5b>\u001b[0m in \u001b[0;36m<cell line: 0>\u001b[0;34m()\u001b[0m\n\u001b[1;32m      1\u001b[0m \u001b[0;32mfrom\u001b[0m \u001b[0msys\u001b[0m \u001b[0;32mimport\u001b[0m \u001b[0margv\u001b[0m\u001b[0;34m\u001b[0m\u001b[0;34m\u001b[0m\u001b[0m\n\u001b[1;32m      2\u001b[0m \u001b[0;34m\u001b[0m\u001b[0m\n\u001b[0;32m----> 3\u001b[0;31m \u001b[0mscript\u001b[0m\u001b[0;34m,\u001b[0m \u001b[0mfilename\u001b[0m \u001b[0;34m=\u001b[0m \u001b[0margv\u001b[0m\u001b[0;34m\u001b[0m\u001b[0;34m\u001b[0m\u001b[0m\n\u001b[0m\u001b[1;32m      4\u001b[0m \u001b[0mtxt\u001b[0m \u001b[0;34m=\u001b[0m \u001b[0mopen\u001b[0m\u001b[0;34m(\u001b[0m\u001b[0mfilename\u001b[0m\u001b[0;34m)\u001b[0m\u001b[0;34m\u001b[0m\u001b[0;34m\u001b[0m\u001b[0m\n\u001b[1;32m      5\u001b[0m \u001b[0;34m\u001b[0m\u001b[0m\n",
            "\u001b[0;31mValueError\u001b[0m: too many values to unpack (expected 2)"
          ]
        }
      ],
      "source": [
        "from sys import argv\n",
        "\n",
        "script, filename = argv\n",
        "txt = open(filename)\n",
        "\n",
        "print(f\"Here's your file {filename}:\")\n",
        "print(txt.read())\n",
        "\n",
        "print(\"Type the filename again:\")\n",
        "file_again = input(\"> \")\n",
        "\n",
        "txt_again = open(file_again)\n",
        "\n",
        "print(txt_again.read())"
      ]
    },
    {
      "cell_type": "markdown",
      "source": [],
      "metadata": {
        "id": "xjrbH7V_DAeL"
      }
    },
    {
      "cell_type": "markdown",
      "source": [
        "# EXERCÍCIO 24"
      ],
      "metadata": {
        "id": "lpBcUrU6DBez"
      }
    },
    {
      "cell_type": "code",
      "source": [
        "from sys import argv\n",
        "\n",
        "script, filename = argv\n",
        "\n",
        "print(f\"We're going to erase {filename}.\")\n",
        "print(\"If you don't want that, hit CTRL-C (^C).\")\n",
        "print(\"If you do want that, hit RETURN.\")\n",
        "\n",
        "input(\"?\")\n",
        "\n",
        "print(\"Opening the file...\")\n",
        "target = open(filename, 'w')\n",
        "\n",
        "print(\"Truncating the file. Goodbye!\")\n",
        "target .truncate()\n",
        "\n",
        "print(\"Now I'm going to ask you for three lines.\")\n",
        "\n",
        "line1 = input(\"line 1: \")\n",
        "\n",
        "line2 = input(\"line 2: \")\n",
        "\n",
        "line3 = input(\"line 3: \")\n",
        "\n",
        "print(\"I'm going to write these to the file.\")\n",
        "\n",
        "target.write(line1)\n",
        "\n",
        "target.write(\"\\n\")\n",
        "\n",
        "target.write(line2)\n",
        "\n",
        "target.write(\"\\n\")\n",
        "\n",
        "target.write(line3)\n",
        "\n",
        "target.write(\"\\n\")\n",
        "\n",
        "print(\"And finally, we close it.\")\n",
        "target .close"
      ],
      "metadata": {
        "colab": {
          "base_uri": "https://localhost:8080/",
          "height": 211
        },
        "id": "20Gy7IWYDFD7",
        "outputId": "0eb6d98b-3bed-4842-b729-303b810d8ecd"
      },
      "execution_count": null,
      "outputs": [
        {
          "output_type": "error",
          "ename": "ValueError",
          "evalue": "too many values to unpack (expected 2)",
          "traceback": [
            "\u001b[0;31m---------------------------------------------------------------------------\u001b[0m",
            "\u001b[0;31mValueError\u001b[0m                                Traceback (most recent call last)",
            "\u001b[0;32m<ipython-input-12-e63d0c88f767>\u001b[0m in \u001b[0;36m<cell line: 0>\u001b[0;34m()\u001b[0m\n\u001b[1;32m      1\u001b[0m \u001b[0;32mfrom\u001b[0m \u001b[0msys\u001b[0m \u001b[0;32mimport\u001b[0m \u001b[0margv\u001b[0m\u001b[0;34m\u001b[0m\u001b[0;34m\u001b[0m\u001b[0m\n\u001b[1;32m      2\u001b[0m \u001b[0;34m\u001b[0m\u001b[0m\n\u001b[0;32m----> 3\u001b[0;31m \u001b[0mscript\u001b[0m\u001b[0;34m,\u001b[0m \u001b[0mfilename\u001b[0m \u001b[0;34m=\u001b[0m \u001b[0margv\u001b[0m\u001b[0;34m\u001b[0m\u001b[0;34m\u001b[0m\u001b[0m\n\u001b[0m\u001b[1;32m      4\u001b[0m \u001b[0;34m\u001b[0m\u001b[0m\n\u001b[1;32m      5\u001b[0m \u001b[0mprint\u001b[0m\u001b[0;34m(\u001b[0m\u001b[0;34mf\"We're going to erase {filename}.\"\u001b[0m\u001b[0;34m)\u001b[0m\u001b[0;34m\u001b[0m\u001b[0;34m\u001b[0m\u001b[0m\n",
            "\u001b[0;31mValueError\u001b[0m: too many values to unpack (expected 2)"
          ]
        }
      ]
    },
    {
      "cell_type": "markdown",
      "source": [
        "#EXERCÍCIO 25"
      ],
      "metadata": {
        "id": "zK5PPQabKfaj"
      }
    },
    {
      "cell_type": "code",
      "source": [
        "from sys import argv\n",
        "\n",
        "from os.path import exists\n",
        "\n",
        "script, from_file, to_file = argv\n",
        "\n",
        "print(f\"Copying from {from_file} to {to_file}\")\n",
        "\n",
        "# poderíamos fazer esses dois com uma linha, como?\n",
        "\n",
        "in_file = open(from_file)\n",
        "indata = in_file.read()\n",
        "\n",
        "print(f\"The input file is {len(indata)} bytes long\")\n",
        "print(f\"Does the output file exist? {exists(to_file)}\")\n",
        "print(\"Ready, hit RETURN to continue, CTRL-C to abort.\")\n",
        "input()\n",
        "\n",
        "out_file = open(to_file, 'w')\n",
        "\n",
        "out_file.write(indata)\n",
        "\n",
        "print(\"Alright, all done.\")\n",
        "\n",
        "out_file.close()\n",
        "\n",
        "in_file.close()\n"
      ],
      "metadata": {
        "colab": {
          "base_uri": "https://localhost:8080/",
          "height": 228
        },
        "id": "LrUD1L1mKhhL",
        "outputId": "bd0b6359-5174-42ed-8f9b-8867760fd7e0"
      },
      "execution_count": null,
      "outputs": [
        {
          "output_type": "stream",
          "name": "stdout",
          "text": [
            "Copying from -f to /root/.local/share/jupyter/runtime/kernel-b9d1689e-6f99-46e0-906c-7a3c219bf992.json\n"
          ]
        },
        {
          "output_type": "error",
          "ename": "FileNotFoundError",
          "evalue": "[Errno 2] No such file or directory: '-f'",
          "traceback": [
            "\u001b[0;31m---------------------------------------------------------------------------\u001b[0m",
            "\u001b[0;31mFileNotFoundError\u001b[0m                         Traceback (most recent call last)",
            "\u001b[0;32m<ipython-input-20-c9295aca6967>\u001b[0m in \u001b[0;36m<cell line: 0>\u001b[0;34m()\u001b[0m\n\u001b[1;32m      9\u001b[0m \u001b[0;31m# poderíamos fazer esses dois com uma linha, como?\u001b[0m\u001b[0;34m\u001b[0m\u001b[0;34m\u001b[0m\u001b[0m\n\u001b[1;32m     10\u001b[0m \u001b[0;34m\u001b[0m\u001b[0m\n\u001b[0;32m---> 11\u001b[0;31m \u001b[0min_file\u001b[0m \u001b[0;34m=\u001b[0m \u001b[0mopen\u001b[0m\u001b[0;34m(\u001b[0m\u001b[0mfrom_file\u001b[0m\u001b[0;34m)\u001b[0m\u001b[0;34m\u001b[0m\u001b[0;34m\u001b[0m\u001b[0m\n\u001b[0m\u001b[1;32m     12\u001b[0m \u001b[0mindata\u001b[0m \u001b[0;34m=\u001b[0m \u001b[0min_file\u001b[0m\u001b[0;34m.\u001b[0m\u001b[0mread\u001b[0m\u001b[0;34m(\u001b[0m\u001b[0;34m)\u001b[0m\u001b[0;34m\u001b[0m\u001b[0;34m\u001b[0m\u001b[0m\n\u001b[1;32m     13\u001b[0m \u001b[0;34m\u001b[0m\u001b[0m\n",
            "\u001b[0;31mFileNotFoundError\u001b[0m: [Errno 2] No such file or directory: '-f'"
          ]
        }
      ]
    },
    {
      "cell_type": "markdown",
      "source": [
        "#EXERCÍCIO 26"
      ],
      "metadata": {
        "id": "d36f4b7RFSVV"
      }
    },
    {
      "cell_type": "code",
      "source": [
        "from sys import argv\n",
        "script, input_file = argv\n",
        "\n",
        "def print_all(f):\n",
        "    print(f.read())\n",
        "\n",
        "def rewind(f):\n",
        "    f.seek(0)\n",
        "\n",
        "def print_a_line(line_count, f):\n",
        "    print(line_count, f.readline())\n",
        "\n",
        "current_file = open(input_file)\n",
        "\n",
        "print(\"First let's print the whole file:\\n\")\n",
        "\n",
        "print_all(current_file)\n",
        "\n",
        "print(\"Now let's rewind, kind of like a tape.\")\n",
        "\n",
        "rewind(current_file)\n",
        "\n",
        "print(\"Let's print three lines:\")\n",
        "\n",
        "current_line = 1\n",
        "print_a_line(current_line, current_file)\n",
        "current_line = current_line + 1\n",
        "print_a_line(current_line, current_file)\n",
        "current_line = current_line + 1\n",
        "print_a_line(current_line, current_file)\n"
      ],
      "metadata": {
        "colab": {
          "base_uri": "https://localhost:8080/",
          "height": 211
        },
        "id": "lOJgRv0dFWHL",
        "outputId": "bb7b4b65-81af-4710-cb60-990c668294ef"
      },
      "execution_count": null,
      "outputs": [
        {
          "output_type": "error",
          "ename": "ValueError",
          "evalue": "too many values to unpack (expected 2)",
          "traceback": [
            "\u001b[0;31m---------------------------------------------------------------------------\u001b[0m",
            "\u001b[0;31mValueError\u001b[0m                                Traceback (most recent call last)",
            "\u001b[0;32m<ipython-input-14-092ec9793f64>\u001b[0m in \u001b[0;36m<cell line: 0>\u001b[0;34m()\u001b[0m\n\u001b[1;32m      1\u001b[0m \u001b[0;32mfrom\u001b[0m \u001b[0msys\u001b[0m \u001b[0;32mimport\u001b[0m \u001b[0margv\u001b[0m\u001b[0;34m\u001b[0m\u001b[0;34m\u001b[0m\u001b[0m\n\u001b[0;32m----> 2\u001b[0;31m \u001b[0mscript\u001b[0m\u001b[0;34m,\u001b[0m \u001b[0minput_file\u001b[0m \u001b[0;34m=\u001b[0m \u001b[0margv\u001b[0m\u001b[0;34m\u001b[0m\u001b[0;34m\u001b[0m\u001b[0m\n\u001b[0m\u001b[1;32m      3\u001b[0m \u001b[0;34m\u001b[0m\u001b[0m\n\u001b[1;32m      4\u001b[0m \u001b[0;32mdef\u001b[0m \u001b[0mprint_all\u001b[0m\u001b[0;34m(\u001b[0m\u001b[0mf\u001b[0m\u001b[0;34m)\u001b[0m\u001b[0;34m:\u001b[0m\u001b[0;34m\u001b[0m\u001b[0;34m\u001b[0m\u001b[0m\n\u001b[1;32m      5\u001b[0m     \u001b[0mprint\u001b[0m\u001b[0;34m(\u001b[0m\u001b[0mf\u001b[0m\u001b[0;34m.\u001b[0m\u001b[0mread\u001b[0m\u001b[0;34m(\u001b[0m\u001b[0;34m)\u001b[0m\u001b[0;34m)\u001b[0m\u001b[0;34m\u001b[0m\u001b[0;34m\u001b[0m\u001b[0m\n",
            "\u001b[0;31mValueError\u001b[0m: too many values to unpack (expected 2)"
          ]
        }
      ]
    },
    {
      "cell_type": "markdown",
      "source": [
        "#EXERCÍCIO 27"
      ],
      "metadata": {
        "id": "Zufh1xSlH00j"
      }
    },
    {
      "cell_type": "code",
      "source": [
        "print(\"Let's practice everything.\")\n",
        "print(\"You\\'d need to know \\'bout escapes with \\\\ that do:\")\n",
        "print(\"\\n newlines and Vt tabs.\")\n",
        "\n",
        "poem = \"\"\"\n",
        "\\tThe lovely world\n",
        "with logic so firmly planted\n",
        "cannot discern \\n the needs of love\n",
        "nor comprehend passion from intuition\n",
        "and requires an explanation\n",
        "\\n\\t\\twhere there is none.\n",
        "\"\"\"\n",
        "\n",
        "print(\"--------—------\")\n",
        "print(poem)\n",
        "print(\"--------—------\")\n",
        "\n",
        "five =10-2+3-6\n",
        "print(f\"This should be five: {five}\")\n",
        "\n",
        "def secret_formula(started):\n",
        "    jelly_beans = started * 500\n",
        "    jars = jelly_beans / 1000\n",
        "    crates = jars / 100\n",
        "    return jelly_beans, jars, crates\n",
        "\n",
        "start_point = 10000\n",
        "beans, jars, crates = secret_formula(start_point)\n",
        "\n",
        "# lembre-se de que essa é uma outra maneira de formatar uma string\n",
        "\n",
        "print(\"With a starting point of: ()\".format(start_point))\n",
        "# é como usar a string f\"\"\n",
        "\n",
        "print(f\"We'd have {beans} beans, {jars} jars, and {crates} crates.\")\n",
        "\n",
        "start_point = start_point / 10\n",
        "\n",
        "print(\"We can also do that this way:\")\n",
        "formula = secret_formula(start_point)\n",
        "# essa é uma maneira fácil de aplicar uma lista a uma string de formatação\n",
        "print(\"We'd have {} beans, {} jars, and {} crates.\".format(*formula))"
      ],
      "metadata": {
        "colab": {
          "base_uri": "https://localhost:8080/"
        },
        "id": "WrcMuzYJH4IE",
        "outputId": "08f51d68-dddb-4fe4-96bd-a9fca54c4bac"
      },
      "execution_count": null,
      "outputs": [
        {
          "output_type": "stream",
          "name": "stdout",
          "text": [
            "Let's practice everything.\n",
            "You'd need to know 'bout escapes with \\ that do:\n",
            "\n",
            " newlines and Vt tabs.\n",
            "--------—------\n",
            "\n",
            "\tThe lovely world\n",
            "with logic so firmly planted\n",
            "cannot discern \n",
            " the needs of love\n",
            "nor comprehend passion from intuition\n",
            "and requires an explanation\n",
            "\n",
            "\t\twhere there is none.\n",
            "\n",
            "--------—------\n",
            "This should be five: 5\n",
            "With a starting point of: ()\n",
            "We'd have 5000000 beans, 5000.0 jars, and 50.0 crates.\n",
            "We can also do that this way:\n",
            "We'd have 500000.0 beans, 500.0 jars, and 5.0 crates.\n"
          ]
        }
      ]
    },
    {
      "cell_type": "markdown",
      "source": [
        "#EXERCÍCIO 28"
      ],
      "metadata": {
        "id": "cCPty8mPM14j"
      }
    },
    {
      "cell_type": "code",
      "source": [
        "from sys import exit\n",
        "\n",
        "def sala_do_ouro():\n",
        "    print(\"Esta sala está cheia de ouro. Quanto você pega?\")\n",
        "    print(\"Digite um número.\")\n",
        "    escolha = input(\"> \")\n",
        "    if \"0\" in escolha or \"1\" in escolha:\n",
        "        quanto = int(escolha)\n",
        "    else:\n",
        "        morrer(\"Cara, aprenda a digitar um número.\")\n",
        "    if quanto < 50:\n",
        "        print(\"Legal, você não é ganancioso, você venceu!\")\n",
        "        exit(0)\n",
        "    else:\n",
        "        morrer(\"Seu ganancioso!\")\n",
        "\n",
        "def sala_do_urso():\n",
        "    print(\"Há um urso aqui.\")\n",
        "    print(\"O urso tem um monte de mel.\")\n",
        "    print(\"O urso gordo está na frente de outra porta.\")\n",
        "    print(\"o que você faz?\")\n",
        "    print(\"opções: 'pegar mel', 'provocar urso'.\")\n",
        "    urso_movido = False\n",
        "    while True:\n",
        "        escolha = input(\"> \")\n",
        "        if escolha == \"pegar mel\":\n",
        "            morrer(\"O urso olha para você e arranca sua cara com uma patada.\")\n",
        "        elif escolha == \"provocar urso\" and not urso_movido:\n",
        "            print(\"O urso se moveu da porta.\")\n",
        "            print(\"você pode 'abrir porta' agora.\")\n",
        "            urso_movido = True\n",
        "        elif escolha == \"provocar urso\" and urso_movido:\n",
        "            morrer(\"O urso fica puto e arranca sua perna.\")\n",
        "        elif escolha == \"abrir porta\" and urso_movido:\n",
        "            sala_do_ouro()\n",
        "        else:\n",
        "            print(\"Não entendi sua escolha. Tente novamente.\")\n",
        "\n",
        "def sala_de_cthulhu():\n",
        "    print(\"Aqui você vê o grande mal, Cthulhu.\")\n",
        "    print(\"Ele, isso, seja lá o que for, olha para você e você enlouquece.\")\n",
        "    print(\"o que você faz?\")\n",
        "    print(\"opções: 'foge', 'cabeça'.\")\n",
        "    escolha = input(\"> \")\n",
        "    if \"foge\" in escolha:\n",
        "        comecar()\n",
        "    elif \"cabeça\" in escolha:\n",
        "        morrer(\"Bem, isso foi gostoso!\")\n",
        "    else:\n",
        "        sala_de_cthulhu()\n",
        "\n",
        "def morrer(porque):\n",
        "    print(porque, \"Bom trabalho!\")\n",
        "    exit(0)\n",
        "\n",
        "def comecar():\n",
        "    print(\"Você está em uma sala escura.\")\n",
        "    print(\"Há uma porta à sua direita e à sua esquerda.\")\n",
        "    print(\"Qual você pega?\")\n",
        "    print(\"opções: 'esquerda', 'direita'.\")\n",
        "    escolha = input(\"> \")\n",
        "    if escolha == \"esquerda\":\n",
        "        sala_do_urso()\n",
        "    elif escolha == \"direita\":\n",
        "        sala_de_cthulhu()\n",
        "    else:\n",
        "        morrer(\"Você tropeça pela sala até morrer de fome.\")\n",
        "\n",
        "comecar()\n",
        "\n"
      ],
      "metadata": {
        "colab": {
          "base_uri": "https://localhost:8080/",
          "height": 610
        },
        "id": "p-_QUTKnM4Z7",
        "outputId": "09b48ea8-676d-446d-a074-cbeff0e4f359"
      },
      "execution_count": null,
      "outputs": [
        {
          "output_type": "stream",
          "name": "stdout",
          "text": [
            "Você está em uma sala escura.\n",
            "Há uma porta à sua direita e à sua esquerda.\n",
            "Qual você pega?\n",
            "opções: 'esquerda', 'direita'.\n",
            "> direita\n",
            "Aqui você vê o grande mal, Cthulhu.\n",
            "Ele, isso, seja lá o que for, olha para você e você enlouquece.\n",
            "o que você faz?\n",
            "opções: 'foge', 'cabeça'.\n",
            "> foge\n",
            "Você está em uma sala escura.\n",
            "Há uma porta à sua direita e à sua esquerda.\n",
            "Qual você pega?\n",
            "opções: 'esquerda', 'direita'.\n",
            "> esquerda\n",
            "Há um urso aqui.\n",
            "O urso tem um monte de mel.\n",
            "O urso gordo está na frente de outra porta.\n",
            "o que você faz?\n",
            "opções: 'pegar mel', 'provocar urso'.\n",
            "> provocar urso\n",
            "O urso se moveu da porta.\n",
            "você pode 'abrir porta' agora.\n",
            "> abrir porta\n",
            "Esta sala está cheia de ouro. Quanto você pega?\n",
            "Digite um número.\n",
            "> 1\n",
            "Legal, você não é ganancioso, você venceu!\n"
          ]
        },
        {
          "output_type": "error",
          "ename": "SystemExit",
          "evalue": "0",
          "traceback": [
            "An exception has occurred, use %tb to see the full traceback.\n",
            "\u001b[0;31mSystemExit\u001b[0m\u001b[0;31m:\u001b[0m 0\n"
          ]
        },
        {
          "output_type": "stream",
          "name": "stderr",
          "text": [
            "/usr/local/lib/python3.11/dist-packages/IPython/core/interactiveshell.py:3561: UserWarning: To exit: use 'exit', 'quit', or Ctrl-D.\n",
            "  warn(\"To exit: use 'exit', 'quit', or Ctrl-D.\", stacklevel=1)\n"
          ]
        }
      ]
    }
  ]
}