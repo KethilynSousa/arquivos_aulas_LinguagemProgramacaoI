{
  "nbformat": 4,
  "nbformat_minor": 0,
  "metadata": {
    "colab": {
      "provenance": [],
      "include_colab_link": true
    },
    "kernelspec": {
      "name": "python3",
      "display_name": "Python 3"
    },
    "language_info": {
      "name": "python"
    }
  },
  "cells": [
    {
      "cell_type": "markdown",
      "metadata": {
        "id": "view-in-github",
        "colab_type": "text"
      },
      "source": [
        "<a href=\"https://colab.research.google.com/github/KethilynSousa/arquivos_aulas_LinguagemProgramacaoI/blob/main/Aula_01.ipynb\" target=\"_parent\"><img src=\"https://colab.research.google.com/assets/colab-badge.svg\" alt=\"Open In Colab\"/></a>"
      ]
    },
    {
      "cell_type": "markdown",
      "source": [
        "# ** Primeiros passos com Python**\n",
        "\n",
        "Vamos realizar os primeiros códigos com a linguagem Python para observar o funcionamento das etapas:\n",
        "\n",
        "1. Entrada\n",
        "2. Processamento\n",
        "3. Saída\n",
        "4. Comentários"
      ],
      "metadata": {
        "id": "_GmQWYA6uP1M"
      }
    },
    {
      "cell_type": "markdown",
      "source": [],
      "metadata": {
        "id": "7jTnBRDutulh"
      }
    },
    {
      "cell_type": "markdown",
      "source": [
        "## EXERCÍCIO 1 - Um Bom Programa Inicial\n",
        "O primeiro passo para usar linhas de código em alguma linguagem (saída de dados)"
      ],
      "metadata": {
        "id": "Sqt36rVbvHPz"
      }
    },
    {
      "cell_type": "code",
      "source": [
        "print(\"Hello World\")\n",
        "print(\"Hello Again.\")\n",
        "\n",
        "print(\"I like Typing this.\")\n",
        "print(\"Yay! Printing.\")\n",
        "\n",
        "print(\"I'd much rather you not\")\n",
        "print(\"I said do not touch this\")"
      ],
      "metadata": {
        "colab": {
          "base_uri": "https://localhost:8080/"
        },
        "id": "akIpQWf6vZwe",
        "outputId": "29d0a519-35fe-469b-aa48-b015edf2404f"
      },
      "execution_count": null,
      "outputs": [
        {
          "output_type": "stream",
          "name": "stdout",
          "text": [
            "Hello World\n",
            "Hello Again.\n",
            "I like Typing this.\n",
            "Yay! Printing.\n",
            "I'd much rather you not\n",
            "I said do not touch this\n"
          ]
        }
      ]
    },
    {
      "cell_type": "markdown",
      "source": [
        "#  EXERCÍCIO 2 - Comentários e Cerquilhas\n",
        "\n",
        "Compreender o uso de comentários para minhas linhas de código;"
      ],
      "metadata": {
        "id": "UWp_CAdv52yD"
      }
    },
    {
      "cell_type": "code",
      "source": [
        "#Um comentário, assim você pode ler seu programa mais tarde.\n",
        "# Qualquer coisa depois de # é ignorada pelo Python.\n",
        "\n",
        "print(\"I could have code like this.\") # e o comentário depois ignorado\n",
        "\n",
        "#Você também pode usar um comentário para desabilitar um código:\n",
        "#print(\"This won't run.\")\n",
        "\n",
        "print('This will run')\n"
      ],
      "metadata": {
        "colab": {
          "base_uri": "https://localhost:8080/"
        },
        "id": "zrpTckhW6NWn",
        "outputId": "08da9fde-4776-4ee8-c2e8-aa335a20511d"
      },
      "execution_count": null,
      "outputs": [
        {
          "output_type": "stream",
          "name": "stdout",
          "text": [
            "I could have code like this.\n",
            "This will run\n"
          ]
        }
      ]
    },
    {
      "cell_type": "markdown",
      "source": [
        "# EXERCÍCIO 3 - Números e Matemática\n",
        "\n",
        "Primeiras operações matemáticas, dentro da instrução de saída de dados."
      ],
      "metadata": {
        "id": "ZZgdma5-8bjq"
      }
    },
    {
      "cell_type": "code",
      "source": [
        "#inicia com um texto sobre o que sera feito no resto do programa\n",
        "print(\"I will now count my chickens:\")\n",
        "\n",
        "#irá concatenar o texto entre aspas com o resultado das operações após as vírgulas\n",
        "print(\"Hens\", 25 + 30 / 6)\n",
        "\n",
        "print(\"Roosters\", 100 - 25 * 3 % 4)\n",
        "\n",
        "#inicia com um texto sobre o que sera feito no resto do programa\n",
        "print(\"Now IT will count the eggs:\")\n",
        "\n",
        "#irá realizar uma operação matemática\n",
        "\n",
        "print(3 + 2+1-5+4%2-1/4+6)\n",
        "\n",
        "#inicia com um texto sobre o que sera feito no resto do programa\n",
        "print(\"Is it true that 3 + 2<5 -7?\")\n",
        "\n",
        "#realizar uma operação relacionando em que o resultado é booleano\n",
        "print(3 + 2<5-7)\n",
        "\n",
        "#inicia com um texto sobre o que sera feito no resto do programa\n",
        "print(\"Whats is 3 + 2?\", 3 + 2)\n",
        "\n",
        "print(\"Whats is 5 - 7?\", 5-7)\n",
        "\n",
        "#inicia com um texto sobre o que sera feito no resto do programa\n",
        "print(\"Oh, that's why it's False.\")\n",
        "\n",
        "#finicia com um texto sobre o que sera feito no resto do programa\n",
        "print(\"How About some more.\")\n",
        "\n",
        "#texto com operações relacionais\n",
        "\n",
        "print(\"Is it greater?\", 5 > -2)\n",
        "\n",
        "print(\"Is it greater or equal?\", 5 >= -2)\n",
        "\n",
        "print(\"Is it less or equal?\", 5 <= -2)"
      ],
      "metadata": {
        "colab": {
          "base_uri": "https://localhost:8080/"
        },
        "id": "YCUmqc7h8t6F",
        "outputId": "b46fab1b-1d5a-46ab-e9d7-6598a7be4fdf"
      },
      "execution_count": null,
      "outputs": [
        {
          "output_type": "stream",
          "name": "stdout",
          "text": [
            "I will now count my chickens:\n",
            "Hens 30.0\n",
            "Roosters 97\n",
            "Now IT will count the eggs:\n",
            "6.75\n",
            "Is it true that 3 + 2<5 -7?\n",
            "False\n",
            "Whats is 3 + 2? 5\n",
            "Whats is 5 - 7? -2\n",
            "Oh, that's why it's False.\n",
            "How About some more.\n",
            "Is it greater? True\n",
            "Is it greater or equal? True\n",
            "Is it less or equal? False\n"
          ]
        }
      ]
    },
    {
      "cell_type": "markdown",
      "source": [
        "#EXERCÍCIO 4 - Variáveis e Nomes\n",
        "\n",
        "Como declarar variáveis e seus rótulos;"
      ],
      "metadata": {
        "id": "qmx-eeEXAtUB"
      }
    },
    {
      "cell_type": "code",
      "source": [
        "cars = 100 #Hatribuindo um número inteiro\n",
        "\n",
        "spaceInACar = 4.0 #Hatribuindo um número real\n",
        "\n",
        "drivers = 30 #atribuindo um número inteiro\n",
        "\n",
        "passengers = 99 #atribuindo um número inteiro\n",
        "\n",
        "carsNotDriven = cars - drivers #toperação aritmética entre inteiro e inteiro\n",
        "\n",
        "carsDriven = drivers # atribuição de valor entre variáveis sem operação\n",
        "\n",
        "carpoolCapacity = carsDriven * spaceInACar #atribuindo o resultado de uma operação aritmética entre inteiro e real\n",
        "averagePassengersPerCar = passengers / carsDriven #atribuindo o resultado de uma operação aritmética entre inteiro e inteiro\n",
        "\n",
        "print(\"There are\", cars, \"cars available.\")\n",
        "\n",
        "print(\"There are only\", drivers, \"drivers available.\")\n",
        "\n",
        "print(\"There will be\", carsNotDriven, \"empty cars today.\")\n",
        "\n",
        "print(\"We can transport\", carpoolCapacity, \"people today.\")\n",
        "\n",
        "print(\"We have\", passengers, \"to carpool today.\")\n",
        "\n",
        "print(\"We need to put about\", averagePassengersPerCar, \"in each car.\")\n",
        "\n",
        "print(10/5)"
      ],
      "metadata": {
        "colab": {
          "base_uri": "https://localhost:8080/"
        },
        "id": "6FnIVicRA5J3",
        "outputId": "da14561e-7b36-40e6-f582-b498d9ff1daf"
      },
      "execution_count": null,
      "outputs": [
        {
          "output_type": "stream",
          "name": "stdout",
          "text": [
            "There are 100 cars available.\n",
            "There are only 30 drivers available.\n",
            "There will be 70 empty cars today.\n",
            "We can transport 120.0 people today.\n",
            "We have 99 to carpool today.\n",
            "We need to put about 3.3 in each car.\n",
            "2.0\n"
          ]
        }
      ]
    }
  ]
}